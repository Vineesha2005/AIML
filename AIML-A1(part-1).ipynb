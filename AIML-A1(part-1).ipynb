{
  "nbformat": 4,
  "nbformat_minor": 0,
  "metadata": {
    "colab": {
      "provenance": [],
      "authorship_tag": "ABX9TyPqSbL5JmTQ3ulo/rndnEj+",
      "include_colab_link": true
    },
    "kernelspec": {
      "name": "python3",
      "display_name": "Python 3"
    },
    "language_info": {
      "name": "python"
    }
  },
  "cells": [
    {
      "cell_type": "markdown",
      "metadata": {
        "id": "view-in-github",
        "colab_type": "text"
      },
      "source": [
        "<a href=\"https://colab.research.google.com/github/Vineesha2005/AIML/blob/main/AIML-A1(part-1).ipynb\" target=\"_parent\"><img src=\"https://colab.research.google.com/assets/colab-badge.svg\" alt=\"Open In Colab\"/></a>"
      ]
    },
    {
      "cell_type": "code",
      "execution_count": 1,
      "metadata": {
        "colab": {
          "base_uri": "https://localhost:8080/"
        },
        "id": "OySr_lOBchGn",
        "outputId": "8da39569-3cf5-4ea3-9d05-0b90dabc4682"
      },
      "outputs": [
        {
          "output_type": "stream",
          "name": "stdout",
          "text": [
            "0    1\n",
            "1    2\n",
            "2    3\n",
            "3    4\n",
            "dtype: int64\n"
          ]
        }
      ],
      "source": [
        "#Implement Lists using Pandas\n",
        "import pandas as pd\n",
        "lst = [1,2,3,4]\n",
        "arr = pd.Series(lst)\n",
        "print(arr)"
      ]
    },
    {
      "cell_type": "code",
      "source": [
        "#Implement arrays using pandas\n",
        "import pandas as pd\n",
        "arr = [1,2,3,4,5]\n",
        "arrays = pd.array(arr)\n",
        "print(arrays)"
      ],
      "metadata": {
        "colab": {
          "base_uri": "https://localhost:8080/"
        },
        "id": "8id6onwZcqbY",
        "outputId": "474b2f97-9713-4ed4-c08a-c0a9222de4c7"
      },
      "execution_count": 2,
      "outputs": [
        {
          "output_type": "stream",
          "name": "stdout",
          "text": [
            "<IntegerArray>\n",
            "[1, 2, 3, 4, 5]\n",
            "Length: 5, dtype: Int64\n"
          ]
        }
      ]
    },
    {
      "cell_type": "code",
      "source": [
        "#Identify thier type()\n",
        "import pandas as pd\n",
        "arr = [1,2,3,4,5]\n",
        "arr1 = [0.1, 2.3, 4.6]\n",
        "series = pd.Series(arr)#list in pandas does not have a datatype.\n",
        "series1 = pd.Series(arr1)#Hence must be converted to Series.\n",
        "data_type = series.dtype\n",
        "data_type1 = series1.dtype\n",
        "print(data_type)\n",
        "print(data_type1)\n",
        ""
      ],
      "metadata": {
        "colab": {
          "base_uri": "https://localhost:8080/"
        },
        "id": "mdzEeWRrcujK",
        "outputId": "7a374418-0664-4e2a-e652-57aeb3ae8dd8"
      },
      "execution_count": 3,
      "outputs": [
        {
          "output_type": "stream",
          "name": "stdout",
          "text": [
            "int64\n",
            "float64\n"
          ]
        }
      ]
    },
    {
      "cell_type": "code",
      "source": [
        "#Combining texts\n",
        "import pandas as pd\n",
        "text1 = pd.Series([\"Addition of Two: \"])\n",
        "text2 = pd.Series([\"array1 + array2\"])\n",
        "print(text1.str.cat(text2))\n",
        ""
      ],
      "metadata": {
        "colab": {
          "base_uri": "https://localhost:8080/"
        },
        "id": "IHYC4O5wc2Ht",
        "outputId": "9f366a0c-2a40-477a-d25f-d97fa90be727"
      },
      "execution_count": 4,
      "outputs": [
        {
          "output_type": "stream",
          "name": "stdout",
          "text": [
            "0    Addition of Two: array1 + array2\n",
            "dtype: object\n"
          ]
        }
      ]
    },
    {
      "cell_type": "code",
      "source": [
        "#implement sin(), log(), log2(), exp() using pandas\n",
        "import pandas as pd\n",
        "import numpy as np #pandas does not have trignometric functions inbuilt\n",
        "a = pd.Series([1,2,3])\n",
        "sin = np.sin(a)\n",
        "print(sin)\n",
        "log = np.log(a)\n",
        "print(log)\n",
        "log2 = np.log2(a)\n",
        "print(log2)\n",
        "exp = np.exp(a)\n",
        "print(exp)"
      ],
      "metadata": {
        "colab": {
          "base_uri": "https://localhost:8080/"
        },
        "id": "mC2Mrbcwc9_L",
        "outputId": "ba8b8f0d-5b46-4ef4-b456-164a3c414f40"
      },
      "execution_count": 5,
      "outputs": [
        {
          "output_type": "stream",
          "name": "stdout",
          "text": [
            "0    0.841471\n",
            "1    0.909297\n",
            "2    0.141120\n",
            "dtype: float64\n",
            "0    0.000000\n",
            "1    0.693147\n",
            "2    1.098612\n",
            "dtype: float64\n",
            "0    0.000000\n",
            "1    1.000000\n",
            "2    1.584963\n",
            "dtype: float64\n",
            "0     2.718282\n",
            "1     7.389056\n",
            "2    20.085537\n",
            "dtype: float64\n"
          ]
        }
      ]
    }
  ]
}