{
  "nbformat": 4,
  "nbformat_minor": 0,
  "metadata": {
    "colab": {
      "provenance": [],
      "authorship_tag": "ABX9TyMMcfzCjwU3J9gcUeQL8MDo",
      "include_colab_link": true
    },
    "kernelspec": {
      "name": "python3",
      "display_name": "Python 3"
    },
    "language_info": {
      "name": "python"
    }
  },
  "cells": [
    {
      "cell_type": "markdown",
      "metadata": {
        "id": "view-in-github",
        "colab_type": "text"
      },
      "source": [
        "<a href=\"https://colab.research.google.com/github/Vineesha2005/AIML/blob/main/LAB%20EXAM.ipynb\" target=\"_parent\"><img src=\"https://colab.research.google.com/assets/colab-badge.svg\" alt=\"Open In Colab\"/></a>"
      ]
    },
    {
      "cell_type": "markdown",
      "source": [
        "Prediction of Travel destinations using Travel Reviews\n",
        "\n",
        "1.Identify the top 5 travel destinations of the travellers in East Asia.\n",
        "\n",
        "2. Name the category most liked by the travellers\n",
        "\n",
        "3.Identify the max and min counts of the most liked category of travellers\n",
        "\n",
        "16.\n",
        "\n",
        "4.Predict the count of travellers who liked the religious institutions the most\n",
        "\n",
        "Travel Reviews\n",
        "\n",
        "UCI ML Repo\n",
        "\n",
        "5.Identify the travellers who liked the beaches and picnic spot the most."
      ],
      "metadata": {
        "id": "8W6sOHgT15Vo"
      }
    },
    {
      "cell_type": "code",
      "source": [
        "import pandas as pd\n",
        "\n",
        "# Load the dataset\n",
        "file_path = 'tripadvisor_review.csv'  # Replace with your actual file path\n",
        "data = pd.read_csv(file_path)\n",
        "\n",
        "# Task 1: Identify the top 5 travel destinations\n",
        "top_5_destinations = data.iloc[:, 1:].mean().sort_values(ascending=False).head(5)\n",
        "print(\"Top 5 Travel Destinations:\")\n",
        "print(top_5_destinations)\n",
        "\n",
        "# Task 2: Name the category most liked by travelers\n",
        "most_liked_category = top_5_destinations.idxmax()\n",
        "print(\"\\nMost liked category:\", most_liked_category)\n",
        "\n",
        "# Task 3: Identify the max and min counts for the most liked category\n",
        "max_count = data[most_liked_category].max()\n",
        "min_count = data[most_liked_category].min()\n",
        "print(\"\\nMax and Min counts for the most liked category:\")\n",
        "print(\"Max Count:\", max_count)\n",
        "print(\"Min Count:\", min_count)\n",
        "\n",
        "# Task 4: Predict the count of travelers who liked religious institutions the most\n",
        "# Assuming \"Category 6\" corresponds to religious institutions\n",
        "religious_likes = data[data['Category 6'] == data.iloc[:, 1:].max(axis=1)].shape[0]\n",
        "print(\"\\nCount of travelers who liked religious institutions the most:\", religious_likes)\n",
        "\n",
        "# Task 5: Identify travelers who liked beaches and picnic spots the most\n",
        "# Assuming \"Category 7\" corresponds to beaches and picnic spots\n",
        "beaches_likes = data[data['Category 7'] == data.iloc[:, 1:].max(axis=1)]\n",
        "print(\"\\nTravelers who liked beaches and picnic spots the most:\")\n",
        "print(beaches_likes[['User ID', 'Category 7']])\n",
        "\n",
        "# Save results for Task 5 as a CSV\n",
        "beaches_likes[['User ID', 'Category 7']].to_csv('beaches_likes.csv', index=False)"
      ],
      "metadata": {
        "colab": {
          "base_uri": "https://localhost:8080/"
        },
        "id": "paDuw7FI2Nqc",
        "outputId": "ba7441e7-2623-457a-b29c-cc0b8204b815"
      },
      "execution_count": null,
      "outputs": [
        {
          "output_type": "stream",
          "name": "stdout",
          "text": [
            "Top 5 Travel Destinations:\n",
            "Category 7     3.180939\n",
            "Category 8     2.835061\n",
            "Category 10    2.799224\n",
            "Category 6     1.842898\n",
            "Category 9     1.569439\n",
            "dtype: float64\n",
            "\n",
            "Most liked category: Category 7\n",
            "\n",
            "Max and Min counts for the most liked category:\n",
            "Max Count: 3.21\n",
            "Min Count: 3.16\n",
            "\n",
            "Count of travelers who liked religious institutions the most: 8\n",
            "\n",
            "Travelers who liked beaches and picnic spots the most:\n",
            "      User ID  Category 7\n",
            "0      User 1        3.19\n",
            "1      User 2        3.21\n",
            "2      User 3        3.18\n",
            "3      User 4        3.18\n",
            "4      User 5        3.18\n",
            "..        ...         ...\n",
            "974  User 975        3.19\n",
            "976  User 977        3.18\n",
            "977  User 978        3.17\n",
            "978  User 979        3.18\n",
            "979  User 980        3.18\n",
            "\n",
            "[790 rows x 2 columns]\n"
          ]
        }
      ]
    }
  ]
}