{
  "nbformat": 4,
  "nbformat_minor": 0,
  "metadata": {
    "colab": {
      "provenance": [],
      "authorship_tag": "ABX9TyOnXcGLTYnCnPv3JrjgjF1E",
      "include_colab_link": true
    },
    "kernelspec": {
      "name": "python3",
      "display_name": "Python 3"
    },
    "language_info": {
      "name": "python"
    }
  },
  "cells": [
    {
      "cell_type": "markdown",
      "metadata": {
        "id": "view-in-github",
        "colab_type": "text"
      },
      "source": [
        "<a href=\"https://colab.research.google.com/github/Vineesha2005/AIML/blob/main/AIML(PART_1).ipynb\" target=\"_parent\"><img src=\"https://colab.research.google.com/assets/colab-badge.svg\" alt=\"Open In Colab\"/></a>"
      ]
    },
    {
      "cell_type": "code",
      "execution_count": null,
      "metadata": {
        "colab": {
          "base_uri": "https://localhost:8080/"
        },
        "id": "AYECyYXvHgpW",
        "outputId": "16dd4038-015d-44bf-c176-0b13409010ec"
      },
      "outputs": [
        {
          "output_type": "stream",
          "name": "stdout",
          "text": [
            "1.1\n",
            "[[1]\n",
            " [2]\n",
            " [3]\n",
            " [4]\n",
            " [5]]\n"
          ]
        }
      ],
      "source": [
        "#implementing lists using Numpy\n",
        "import numpy as np\n",
        "print(1.1)\n",
        "list=np.array([[1],[2],[3],[4],[5]])\n",
        "print(list)"
      ]
    },
    {
      "cell_type": "code",
      "source": [
        "#implementing arrays using Numpy\n",
        "import numpy as np\n",
        "print(1.2)\n",
        "array=np.array([1,2,3,4,5])\n",
        "print(array)\n"
      ],
      "metadata": {
        "colab": {
          "base_uri": "https://localhost:8080/"
        },
        "id": "q6xLs4tzInWz",
        "outputId": "17d0e2a9-070c-472f-a2ba-7df37cbcb86c"
      },
      "execution_count": null,
      "outputs": [
        {
          "output_type": "stream",
          "name": "stdout",
          "text": [
            "1.2\n",
            "[1 2 3 4 5]\n"
          ]
        }
      ]
    },
    {
      "cell_type": "code",
      "source": [
        "#Indentifing type using \"type\"()method\n",
        "import numpy as np\n",
        "arr =np.array([1,2,3,4,5,6,7])\n",
        "print(type(arr))\n"
      ],
      "metadata": {
        "colab": {
          "base_uri": "https://localhost:8080/"
        },
        "id": "LhSUvXg9I-1A",
        "outputId": "b1a0fe13-873a-4a60-df11-83ada777fced"
      },
      "execution_count": null,
      "outputs": [
        {
          "output_type": "stream",
          "name": "stdout",
          "text": [
            "<class 'numpy.ndarray'>\n"
          ]
        }
      ]
    },
    {
      "cell_type": "code",
      "source": [
        "#performing mathematical operations\n",
        "#1.multipilcation\n",
        "import numpy as np\n",
        "a=np.array([1,2,3])\n",
        "b=np.array([4,5,6])\n",
        "mul=np.multiply(a,b)\n",
        "print(mul)\n",
        "#2.division\n",
        "div=np.divide(a,b)\n",
        "print(div)\n",
        "#3,poweroff\n",
        "power=np.power(a,b)\n",
        "print(power)"
      ],
      "metadata": {
        "colab": {
          "base_uri": "https://localhost:8080/"
        },
        "id": "2uQ5FNYXL0p4",
        "outputId": "10094dd8-0283-4953-b3e2-b1397c683d9b"
      },
      "execution_count": null,
      "outputs": [
        {
          "output_type": "stream",
          "name": "stdout",
          "text": [
            "[ 4 10 18]\n",
            "[0.25 0.4  0.5 ]\n",
            "[  1  32 729]\n"
          ]
        }
      ]
    },
    {
      "cell_type": "code",
      "source": [
        "#Addition of two array\n",
        "import numpy as np\n",
        "array1=np.array([1,2,3])\n",
        "array2=np.array([4,5,6])\n",
        "r=array1+array2\n",
        "print(r)"
      ],
      "metadata": {
        "id": "7HEXQHDzHhRR",
        "colab": {
          "base_uri": "https://localhost:8080/"
        },
        "outputId": "9781272d-62cc-4221-9e2f-2de3474e5af3"
      },
      "execution_count": null,
      "outputs": [
        {
          "output_type": "stream",
          "name": "stdout",
          "text": [
            "[5 7 9]\n"
          ]
        }
      ]
    },
    {
      "cell_type": "code",
      "source": [
        "#implement np.sin(), log(), np.exp(), log2()\n",
        "import numpy as np\n",
        "a = np.array([1,2,3])\n",
        "sin = np.sin(a)\n",
        "print(sin)\n",
        "log = np.log(a)\n",
        "print(log)\n",
        "exp = np.exp(a)\n",
        "print(exp)\n",
        "log2 = np.log2(a)\n",
        "print(log2)"
      ],
      "metadata": {
        "colab": {
          "base_uri": "https://localhost:8080/"
        },
        "id": "m7d9wuLpPlRL",
        "outputId": "ba5fc2e7-274d-4e23-b9b7-b4ed12dd1389"
      },
      "execution_count": null,
      "outputs": [
        {
          "output_type": "stream",
          "name": "stdout",
          "text": [
            "[0.84147098 0.90929743 0.14112001]\n",
            "[0.         0.69314718 1.09861229]\n",
            "[ 2.71828183  7.3890561  20.08553692]\n",
            "[0.        1.        1.5849625]\n"
          ]
        }
      ]
    }
  ]
}